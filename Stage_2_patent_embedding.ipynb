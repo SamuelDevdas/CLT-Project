{
 "cells": [
  {
   "cell_type": "code",
   "execution_count": null,
   "metadata": {},
   "outputs": [],
   "source": []
  },
  {
   "cell_type": "markdown",
   "metadata": {},
   "source": [
    "# Stage 2: Advanced Embedding Models Training and Analysis\n",
    "\n",
    "## Objective\n",
    "\n",
    "The primary goal of Stage 2 is to develop and utilize advanced embedding models to effectively represent the content of the Cleantech Media and Google Patent datasets. This stage aims to compare domain-specific embeddings to gain unique insights into the textual data from these two sources, exploring similarities, differences, and emerging patterns in the cleantech domain.\n"
   ]
  },
  {
   "cell_type": "markdown",
   "metadata": {},
   "source": [
    "## Data Preparation for Embeddings\n",
    "\n",
    "We will preprocess the columns 'Title_preprocesed' and 'Abstract_preprocesed' in of the 'patent_preprocessed.csv' file saved as an output file from the Stage 1.\n",
    "\n",
    "1. WORD2VEC requires a list of sentences, where each sentence is a list of words.\n",
    "for example: [['This', 'is', 'a', 'sentence'], ['This', 'is', 'another', 'sentence']]\n"
   ]
  },
  {
   "cell_type": "code",
   "execution_count": null,
   "metadata": {},
   "outputs": [],
   "source": [
    "# Load the libraries"
   ]
  },
  {
   "cell_type": "markdown",
   "metadata": {},
   "source": []
  }
 ],
 "metadata": {
  "language_info": {
   "name": "python"
  }
 },
 "nbformat": 4,
 "nbformat_minor": 2
}
