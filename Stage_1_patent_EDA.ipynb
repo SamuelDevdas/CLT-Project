{
 "cells": [
  {
   "cell_type": "markdown",
   "metadata": {},
   "source": [
    "## Import Libraries\n"
   ]
  },
  {
   "cell_type": "code",
   "execution_count": 3,
   "metadata": {},
   "outputs": [],
   "source": [
    "#!pip install pandas numpy matplotlib seaborn nltk textblob scikit-learn top2vec bertopic wordcloud\n",
    "\n",
    "# !pip install top2vec\n",
    "# !pip install bertopic\n",
    "# !pip install gensim\n",
    "# !pip install pyLDAvis"
   ]
  },
  {
   "cell_type": "code",
   "execution_count": 5,
   "metadata": {},
   "outputs": [
    {
     "ename": "ImportError",
     "evalue": "cannot import name 'triu' from 'scipy.linalg' (c:\\Users\\samue\\switchdrive\\SyncVM\\MscIds Course Materials\\4th Semester\\CLT\\CLT-Project\\venv-sam-clt\\Lib\\site-packages\\scipy\\linalg\\__init__.py)",
     "output_type": "error",
     "traceback": [
      "\u001b[1;31m---------------------------------------------------------------------------\u001b[0m",
      "\u001b[1;31mImportError\u001b[0m                               Traceback (most recent call last)",
      "Cell \u001b[1;32mIn[5], line 18\u001b[0m\n\u001b[0;32m     16\u001b[0m \u001b[38;5;28;01mfrom\u001b[39;00m \u001b[38;5;21;01msklearn\u001b[39;00m\u001b[38;5;21;01m.\u001b[39;00m\u001b[38;5;21;01mdecomposition\u001b[39;00m \u001b[38;5;28;01mimport\u001b[39;00m LatentDirichletAllocation \u001b[38;5;28;01mas\u001b[39;00m LDA\n\u001b[0;32m     17\u001b[0m \u001b[38;5;28;01mfrom\u001b[39;00m \u001b[38;5;21;01msklearn\u001b[39;00m\u001b[38;5;21;01m.\u001b[39;00m\u001b[38;5;21;01mdecomposition\u001b[39;00m \u001b[38;5;28;01mimport\u001b[39;00m NMF\n\u001b[1;32m---> 18\u001b[0m \u001b[38;5;28;01mfrom\u001b[39;00m \u001b[38;5;21;01mtop2vec\u001b[39;00m \u001b[38;5;28;01mimport\u001b[39;00m Top2Vec\n\u001b[0;32m     19\u001b[0m \u001b[38;5;28;01mfrom\u001b[39;00m \u001b[38;5;21;01mbertopic\u001b[39;00m \u001b[38;5;28;01mimport\u001b[39;00m BERTopic\n\u001b[0;32m     21\u001b[0m \u001b[38;5;66;03m# Visualization\u001b[39;00m\n",
      "File \u001b[1;32mc:\\Users\\samue\\switchdrive\\SyncVM\\MscIds Course Materials\\4th Semester\\CLT\\CLT-Project\\venv-sam-clt\\Lib\\site-packages\\top2vec\\__init__.py:1\u001b[0m\n\u001b[1;32m----> 1\u001b[0m \u001b[38;5;28;01mfrom\u001b[39;00m \u001b[38;5;21;01mtop2vec\u001b[39;00m\u001b[38;5;21;01m.\u001b[39;00m\u001b[38;5;21;01mTop2Vec\u001b[39;00m \u001b[38;5;28;01mimport\u001b[39;00m Top2Vec\n\u001b[0;32m      3\u001b[0m __version__ \u001b[38;5;241m=\u001b[39m \u001b[38;5;124m'\u001b[39m\u001b[38;5;124m1.0.34\u001b[39m\u001b[38;5;124m'\u001b[39m\n",
      "File \u001b[1;32mc:\\Users\\samue\\switchdrive\\SyncVM\\MscIds Course Materials\\4th Semester\\CLT\\CLT-Project\\venv-sam-clt\\Lib\\site-packages\\top2vec\\Top2Vec.py:7\u001b[0m\n\u001b[0;32m      5\u001b[0m \u001b[38;5;28;01mimport\u001b[39;00m \u001b[38;5;21;01mnumpy\u001b[39;00m \u001b[38;5;28;01mas\u001b[39;00m \u001b[38;5;21;01mnp\u001b[39;00m\n\u001b[0;32m      6\u001b[0m \u001b[38;5;28;01mimport\u001b[39;00m \u001b[38;5;21;01mpandas\u001b[39;00m \u001b[38;5;28;01mas\u001b[39;00m \u001b[38;5;21;01mpd\u001b[39;00m\n\u001b[1;32m----> 7\u001b[0m \u001b[38;5;28;01mfrom\u001b[39;00m \u001b[38;5;21;01mgensim\u001b[39;00m\u001b[38;5;21;01m.\u001b[39;00m\u001b[38;5;21;01mmodels\u001b[39;00m\u001b[38;5;21;01m.\u001b[39;00m\u001b[38;5;21;01mdoc2vec\u001b[39;00m \u001b[38;5;28;01mimport\u001b[39;00m Doc2Vec, TaggedDocument\n\u001b[0;32m      8\u001b[0m \u001b[38;5;28;01mfrom\u001b[39;00m \u001b[38;5;21;01mgensim\u001b[39;00m\u001b[38;5;21;01m.\u001b[39;00m\u001b[38;5;21;01mutils\u001b[39;00m \u001b[38;5;28;01mimport\u001b[39;00m simple_preprocess\n\u001b[0;32m      9\u001b[0m \u001b[38;5;28;01mfrom\u001b[39;00m \u001b[38;5;21;01mgensim\u001b[39;00m\u001b[38;5;21;01m.\u001b[39;00m\u001b[38;5;21;01mparsing\u001b[39;00m\u001b[38;5;21;01m.\u001b[39;00m\u001b[38;5;21;01mpreprocessing\u001b[39;00m \u001b[38;5;28;01mimport\u001b[39;00m strip_tags\n",
      "File \u001b[1;32mc:\\Users\\samue\\switchdrive\\SyncVM\\MscIds Course Materials\\4th Semester\\CLT\\CLT-Project\\venv-sam-clt\\Lib\\site-packages\\gensim\\__init__.py:11\u001b[0m\n\u001b[0;32m      7\u001b[0m __version__ \u001b[38;5;241m=\u001b[39m \u001b[38;5;124m'\u001b[39m\u001b[38;5;124m4.3.2\u001b[39m\u001b[38;5;124m'\u001b[39m\n\u001b[0;32m      9\u001b[0m \u001b[38;5;28;01mimport\u001b[39;00m \u001b[38;5;21;01mlogging\u001b[39;00m\n\u001b[1;32m---> 11\u001b[0m \u001b[38;5;28;01mfrom\u001b[39;00m \u001b[38;5;21;01mgensim\u001b[39;00m \u001b[38;5;28;01mimport\u001b[39;00m parsing, corpora, matutils, interfaces, models, similarities, utils  \u001b[38;5;66;03m# noqa:F401\u001b[39;00m\n\u001b[0;32m     14\u001b[0m logger \u001b[38;5;241m=\u001b[39m logging\u001b[38;5;241m.\u001b[39mgetLogger(\u001b[38;5;124m'\u001b[39m\u001b[38;5;124mgensim\u001b[39m\u001b[38;5;124m'\u001b[39m)\n\u001b[0;32m     15\u001b[0m \u001b[38;5;28;01mif\u001b[39;00m \u001b[38;5;129;01mnot\u001b[39;00m logger\u001b[38;5;241m.\u001b[39mhandlers:  \u001b[38;5;66;03m# To ensure reload() doesn't add another one\u001b[39;00m\n",
      "File \u001b[1;32mc:\\Users\\samue\\switchdrive\\SyncVM\\MscIds Course Materials\\4th Semester\\CLT\\CLT-Project\\venv-sam-clt\\Lib\\site-packages\\gensim\\corpora\\__init__.py:6\u001b[0m\n\u001b[0;32m      1\u001b[0m \u001b[38;5;124;03m\"\"\"\u001b[39;00m\n\u001b[0;32m      2\u001b[0m \u001b[38;5;124;03mThis package contains implementations of various streaming corpus I/O format.\u001b[39;00m\n\u001b[0;32m      3\u001b[0m \u001b[38;5;124;03m\"\"\"\u001b[39;00m\n\u001b[0;32m      5\u001b[0m \u001b[38;5;66;03m# bring corpus classes directly into package namespace, to save some typing\u001b[39;00m\n\u001b[1;32m----> 6\u001b[0m \u001b[38;5;28;01mfrom\u001b[39;00m \u001b[38;5;21;01m.\u001b[39;00m\u001b[38;5;21;01mindexedcorpus\u001b[39;00m \u001b[38;5;28;01mimport\u001b[39;00m IndexedCorpus  \u001b[38;5;66;03m# noqa:F401 must appear before the other classes\u001b[39;00m\n\u001b[0;32m      8\u001b[0m \u001b[38;5;28;01mfrom\u001b[39;00m \u001b[38;5;21;01m.\u001b[39;00m\u001b[38;5;21;01mmmcorpus\u001b[39;00m \u001b[38;5;28;01mimport\u001b[39;00m MmCorpus  \u001b[38;5;66;03m# noqa:F401\u001b[39;00m\n\u001b[0;32m      9\u001b[0m \u001b[38;5;28;01mfrom\u001b[39;00m \u001b[38;5;21;01m.\u001b[39;00m\u001b[38;5;21;01mbleicorpus\u001b[39;00m \u001b[38;5;28;01mimport\u001b[39;00m BleiCorpus  \u001b[38;5;66;03m# noqa:F401\u001b[39;00m\n",
      "File \u001b[1;32mc:\\Users\\samue\\switchdrive\\SyncVM\\MscIds Course Materials\\4th Semester\\CLT\\CLT-Project\\venv-sam-clt\\Lib\\site-packages\\gensim\\corpora\\indexedcorpus.py:14\u001b[0m\n\u001b[0;32m     10\u001b[0m \u001b[38;5;28;01mimport\u001b[39;00m \u001b[38;5;21;01mlogging\u001b[39;00m\n\u001b[0;32m     12\u001b[0m \u001b[38;5;28;01mimport\u001b[39;00m \u001b[38;5;21;01mnumpy\u001b[39;00m\n\u001b[1;32m---> 14\u001b[0m \u001b[38;5;28;01mfrom\u001b[39;00m \u001b[38;5;21;01mgensim\u001b[39;00m \u001b[38;5;28;01mimport\u001b[39;00m interfaces, utils\n\u001b[0;32m     16\u001b[0m logger \u001b[38;5;241m=\u001b[39m logging\u001b[38;5;241m.\u001b[39mgetLogger(\u001b[38;5;18m__name__\u001b[39m)\n\u001b[0;32m     19\u001b[0m \u001b[38;5;28;01mclass\u001b[39;00m \u001b[38;5;21;01mIndexedCorpus\u001b[39;00m(interfaces\u001b[38;5;241m.\u001b[39mCorpusABC):\n",
      "File \u001b[1;32mc:\\Users\\samue\\switchdrive\\SyncVM\\MscIds Course Materials\\4th Semester\\CLT\\CLT-Project\\venv-sam-clt\\Lib\\site-packages\\gensim\\interfaces.py:19\u001b[0m\n\u001b[0;32m      7\u001b[0m \u001b[38;5;124;03m\"\"\"Basic interfaces used across the whole Gensim package.\u001b[39;00m\n\u001b[0;32m      8\u001b[0m \n\u001b[0;32m      9\u001b[0m \u001b[38;5;124;03mThese interfaces are used for building corpora, model transformation and similarity queries.\u001b[39;00m\n\u001b[1;32m   (...)\u001b[0m\n\u001b[0;32m     14\u001b[0m \n\u001b[0;32m     15\u001b[0m \u001b[38;5;124;03m\"\"\"\u001b[39;00m\n\u001b[0;32m     17\u001b[0m \u001b[38;5;28;01mimport\u001b[39;00m \u001b[38;5;21;01mlogging\u001b[39;00m\n\u001b[1;32m---> 19\u001b[0m \u001b[38;5;28;01mfrom\u001b[39;00m \u001b[38;5;21;01mgensim\u001b[39;00m \u001b[38;5;28;01mimport\u001b[39;00m utils, matutils\n\u001b[0;32m     22\u001b[0m logger \u001b[38;5;241m=\u001b[39m logging\u001b[38;5;241m.\u001b[39mgetLogger(\u001b[38;5;18m__name__\u001b[39m)\n\u001b[0;32m     25\u001b[0m \u001b[38;5;28;01mclass\u001b[39;00m \u001b[38;5;21;01mCorpusABC\u001b[39;00m(utils\u001b[38;5;241m.\u001b[39mSaveLoad):\n",
      "File \u001b[1;32mc:\\Users\\samue\\switchdrive\\SyncVM\\MscIds Course Materials\\4th Semester\\CLT\\CLT-Project\\venv-sam-clt\\Lib\\site-packages\\gensim\\matutils.py:20\u001b[0m\n\u001b[0;32m     18\u001b[0m \u001b[38;5;28;01mimport\u001b[39;00m \u001b[38;5;21;01mscipy\u001b[39;00m\u001b[38;5;21;01m.\u001b[39;00m\u001b[38;5;21;01msparse\u001b[39;00m\n\u001b[0;32m     19\u001b[0m \u001b[38;5;28;01mfrom\u001b[39;00m \u001b[38;5;21;01mscipy\u001b[39;00m\u001b[38;5;21;01m.\u001b[39;00m\u001b[38;5;21;01mstats\u001b[39;00m \u001b[38;5;28;01mimport\u001b[39;00m entropy\n\u001b[1;32m---> 20\u001b[0m \u001b[38;5;28;01mfrom\u001b[39;00m \u001b[38;5;21;01mscipy\u001b[39;00m\u001b[38;5;21;01m.\u001b[39;00m\u001b[38;5;21;01mlinalg\u001b[39;00m \u001b[38;5;28;01mimport\u001b[39;00m get_blas_funcs, triu\n\u001b[0;32m     21\u001b[0m \u001b[38;5;28;01mfrom\u001b[39;00m \u001b[38;5;21;01mscipy\u001b[39;00m\u001b[38;5;21;01m.\u001b[39;00m\u001b[38;5;21;01mlinalg\u001b[39;00m\u001b[38;5;21;01m.\u001b[39;00m\u001b[38;5;21;01mlapack\u001b[39;00m \u001b[38;5;28;01mimport\u001b[39;00m get_lapack_funcs\n\u001b[0;32m     22\u001b[0m \u001b[38;5;28;01mfrom\u001b[39;00m \u001b[38;5;21;01mscipy\u001b[39;00m\u001b[38;5;21;01m.\u001b[39;00m\u001b[38;5;21;01mspecial\u001b[39;00m \u001b[38;5;28;01mimport\u001b[39;00m psi  \u001b[38;5;66;03m# gamma function utils\u001b[39;00m\n",
      "\u001b[1;31mImportError\u001b[0m: cannot import name 'triu' from 'scipy.linalg' (c:\\Users\\samue\\switchdrive\\SyncVM\\MscIds Course Materials\\4th Semester\\CLT\\CLT-Project\\venv-sam-clt\\Lib\\site-packages\\scipy\\linalg\\__init__.py)"
     ]
    }
   ],
   "source": [
    "# Core libraries\n",
    "import pandas as pd\n",
    "import numpy as np\n",
    "import matplotlib.pyplot as plt\n",
    "import seaborn as sns\n",
    "from collections import Counter\n",
    "import re\n",
    "\n",
    "# Text processing and NLP\n",
    "from textblob import TextBlob\n",
    "from nltk.util import ngrams\n",
    "from sklearn.feature_extraction.text import CountVectorizer\n",
    "from sklearn.feature_extraction.text import TfidfVectorizer\n",
    "\n",
    "# Machine learning and topic modeling\n",
    "from sklearn.decomposition import LatentDirichletAllocation as LDA\n",
    "from sklearn.decomposition import NMF\n",
    "from top2vec import Top2Vec\n",
    "from bertopic import BERTopic\n",
    "\n",
    "# Visualization\n",
    "from wordcloud import WordCloud\n",
    "\n",
    "\n",
    "import gensim\n",
    "from gensim.models.coherencemodel import CoherenceModel\n",
    "from gensim.corpora.dictionary import Dictionary"
   ]
  },
  {
   "cell_type": "markdown",
   "metadata": {},
   "source": [
    "## Load the Dataset\n",
    "\n",
    "Load the preprocessed cleantech media dataset"
   ]
  },
  {
   "cell_type": "code",
   "execution_count": 6,
   "metadata": {},
   "outputs": [],
   "source": [
    "# Load the Dataset\n",
    "\n",
    "# Load the preprocessed cpatent media dataset\n",
    "# Load the dataset\n",
    "file_path = \"patent_preprocessed.csv\"\n",
    "patent_data = pd.read_csv(file_path, encoding=\"utf-8\")"
   ]
  },
  {
   "cell_type": "code",
   "execution_count": null,
   "metadata": {},
   "outputs": [],
   "source": []
  },
  {
   "cell_type": "markdown",
   "metadata": {},
   "source": [
    "## Dataset Overview"
   ]
  },
  {
   "cell_type": "code",
   "execution_count": 7,
   "metadata": {},
   "outputs": [
    {
     "name": "stdout",
     "output_type": "stream",
     "text": [
      "<class 'pandas.core.frame.DataFrame'>\n",
      "RangeIndex: 8545 entries, 0 to 8544\n",
      "Data columns (total 12 columns):\n",
      " #   Column                 Non-Null Count  Dtype \n",
      "---  ------                 --------------  ----- \n",
      " 0   publication_number     8545 non-null   object\n",
      " 1   application_number     8545 non-null   object\n",
      " 2   country_code           8545 non-null   object\n",
      " 3   publication_date       8545 non-null   object\n",
      " 4   title                  8545 non-null   object\n",
      " 5   abstract               8545 non-null   object\n",
      " 6   inventors              8545 non-null   object\n",
      " 7   code                   8545 non-null   object\n",
      " 8   inventive              8545 non-null   bool  \n",
      " 9   first                  8545 non-null   bool  \n",
      " 10  title_preprocessed     8395 non-null   object\n",
      " 11  abstract_preprocessed  4552 non-null   object\n",
      "dtypes: bool(2), object(10)\n",
      "memory usage: 684.4+ KB\n"
     ]
    },
    {
     "data": {
      "text/plain": [
       "(None,\n",
       "   publication_number application_number country_code publication_date  \\\n",
       " 0   US-2022239235-A1  US-202217717397-A           US       2022-07-28   \n",
       " \n",
       "                                                title  \\\n",
       " 0  Adaptable DC-AC Inverter Drive System and Oper...   \n",
       " \n",
       "                                             abstract inventors        code  \\\n",
       " 0  Disclosed is an adaptable DC-AC inverter syste...        []  H02M7/5395   \n",
       " \n",
       "    inventive  first                               title_preprocessed  \\\n",
       " 0       True  False  adaptable DC AC Inverter Drive System Operation   \n",
       " \n",
       "                                abstract_preprocessed  \n",
       " 0  Disclosed adaptable DC AC inverter system oper...  )"
      ]
     },
     "execution_count": 7,
     "metadata": {},
     "output_type": "execute_result"
    }
   ],
   "source": [
    "# Display the first few rows and the data structure to understand what we have\n",
    "# Display the first few rows and the data structure to understand what we have\n",
    "\n",
    "patent_data.info(), patent_data.head(1)"
   ]
  },
  {
   "cell_type": "code",
   "execution_count": 8,
   "metadata": {},
   "outputs": [
    {
     "data": {
      "text/plain": [
       "publication_number          0\n",
       "application_number          0\n",
       "country_code                0\n",
       "publication_date            0\n",
       "title                       0\n",
       "abstract                    0\n",
       "inventors                   0\n",
       "code                        0\n",
       "inventive                   0\n",
       "first                       0\n",
       "title_preprocessed        150\n",
       "abstract_preprocessed    3993\n",
       "dtype: int64"
      ]
     },
     "execution_count": 8,
     "metadata": {},
     "output_type": "execute_result"
    }
   ],
   "source": [
    "# Inspect the columns title_preprocessed and abstract_preprocessed for null values\n",
    "\n",
    "patent_data.isnull().sum()"
   ]
  },
  {
   "cell_type": "code",
   "execution_count": 9,
   "metadata": {},
   "outputs": [
    {
     "name": "stdout",
     "output_type": "stream",
     "text": [
      "  publication_number application_number country_code publication_date  \\\n",
      "0   US-2022239235-A1  US-202217717397-A           US       2022-07-28   \n",
      "1   US-2022239251-A1  US-202217580956-A           US       2022-07-28   \n",
      "\n",
      "                                               title  \\\n",
      "0  Adaptable DC-AC Inverter Drive System and Oper...   \n",
      "1  System for providing the energy from a single ...   \n",
      "\n",
      "                                            abstract inventors        code  \\\n",
      "0  Disclosed is an adaptable DC-AC inverter syste...        []  H02M7/5395   \n",
      "1  In accordance with an example embodiment, a so...        []   H02S40/38   \n",
      "\n",
      "   inventive  first                                 title_preprocessed  \\\n",
      "0       True  False    adaptable DC AC Inverter Drive System Operation   \n",
      "1       True  False  system provide energy single contiguous solar ...   \n",
      "\n",
      "                               abstract_preprocessed  \n",
      "0  Disclosed adaptable DC AC inverter system oper...  \n",
      "1  accordance example embodiment solar energy sys...  \n",
      "     publication_number application_number country_code publication_date  \\\n",
      "8543     CN-113690940-A  CN-202111107806-A           CN       2021-11-23   \n",
      "8544     CN-113683210-A  CN-202110998828-A           CN       2021-11-23   \n",
      "\n",
      "                    title                                           abstract  \\\n",
      "8543           一种风电供电控制方法  The invention provides a wind power supply con...   \n",
      "8544  一种基于无线控制的漂浮式太阳能曝气装置  本发明公开了一种基于无线控制的漂浮式太阳能曝气装置，包括漂浮板、太阳能转化机构以及输气泵，所...   \n",
      "\n",
      "                                             inventors         code  \\\n",
      "8543  ['ZHANG YUCHUAN', 'LONG HAIYANG', 'TAN CUNZHEN']    Y02E10/76   \n",
      "8544                                     ['An Zhixia']  C02F2209/22   \n",
      "\n",
      "      inventive  first   title_preprocessed  \\\n",
      "8543      False  False           一种风电供电控制方法   \n",
      "8544      False  False  一种基于无线控制的漂浮式太阳能曝气装置   \n",
      "\n",
      "                                  abstract_preprocessed  \n",
      "8543  invention provide wind power supply control me...  \n",
      "8544                                                NaN  \n",
      "country_code\n",
      "CN    3973\n",
      "WO      17\n",
      "TW       3\n",
      "Name: count, dtype: int64\n"
     ]
    }
   ],
   "source": [
    "# Display the data dataframe head and tail\n",
    "\n",
    "print(patent_data.head(2))\n",
    "\n",
    "print(patent_data.tail(2))\n",
    "\n",
    "# Filtering where abstract_preprocessed is null\n",
    "filtered_data = patent_data[patent_data[\"abstract_preprocessed\"].isnull()]\n",
    "\n",
    "# Counting the occurrences of each country_code in the filtered data\n",
    "country_code_counts = (\n",
    "    filtered_data[\"country_code\"].value_counts().sort_values(ascending=False)\n",
    ")\n",
    "\n",
    "# Display the counts\n",
    "print(country_code_counts)"
   ]
  },
  {
   "cell_type": "markdown",
   "metadata": {},
   "source": [
    "### NLP Preprocessing Issue Resolution Report\n",
    "\n",
    "**Background:**  \n",
    "Our NLP framework encountered issues in effectively preprocessing multilingual patent data, particularly for Chinese (CN), Taiwanese (TW), and World Intellectual Property Organization (WO) codes, resulting in a substantial number of unprocessed entries.\n",
    "\n",
    "**Challenges Identified:**  \n",
    "- **Model Limitations:** The spaCy Chinese model (`zh_core_web_sm`) may not fully capture the nuances of domain-specific Chinese used in patents, impacting the effectiveness of tokenization, lemmatization, and stop word removal.\n",
    "- **Data Quality Issues:** Potential inaccuracies in language tagging and text quality could be leading to preprocessing failures.\n",
    "- **Improper Text Handling:** The function may not handle specific cases well, leading to failures in text processing.\n",
    "- **Evaluation Methods:** Current metrics may not accurately reflect the preprocessing effectiveness.\n",
    "\n",
    "**Strategic Decision:**\n",
    "- Despite these challenges, the decision has been made to not focus further on these issues. We will continue with our project's next steps and shift our resources towards progressing in other strategic areas."
   ]
  },
  {
   "cell_type": "markdown",
   "metadata": {},
   "source": []
  }
 ],
 "metadata": {
  "kernelspec": {
   "display_name": "Python 3",
   "language": "python",
   "name": "python3"
  },
  "language_info": {
   "codemirror_mode": {
    "name": "ipython",
    "version": 3
   },
   "file_extension": ".py",
   "mimetype": "text/x-python",
   "name": "python",
   "nbconvert_exporter": "python",
   "pygments_lexer": "ipython3",
   "version": "3.11.4"
  }
 },
 "nbformat": 4,
 "nbformat_minor": 2
}
